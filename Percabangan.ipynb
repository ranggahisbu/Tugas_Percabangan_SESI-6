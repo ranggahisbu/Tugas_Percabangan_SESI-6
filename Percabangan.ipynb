{
 "cells": [
  {
   "cell_type": "code",
   "execution_count": 3,
   "id": "733f5d1c-b4b6-48e7-872e-9f410876efbd",
   "metadata": {},
   "outputs": [
    {
     "name": "stdout",
     "output_type": "stream",
     "text": [
      "Dingin\n"
     ]
    }
   ],
   "source": [
    "cuaca = \"Hujan\"\n",
    "if cuaca == \"Hujan\":\n",
    "    print(\"Dingin\")"
   ]
  },
  {
   "cell_type": "code",
   "execution_count": 9,
   "id": "3ee12ce3-c5fb-434b-9e2e-a6b580ed9e59",
   "metadata": {},
   "outputs": [
    {
     "name": "stdout",
     "output_type": "stream",
     "text": [
      "11 Adalah bilangan Ganjil\n"
     ]
    }
   ],
   "source": [
    "#MENENTUKAN NILAI GANJIL GENAP\n",
    "nilai = 11\n",
    "sisa_bagi = nilai % 2\n",
    "if sisa_bagi ==0:\n",
    "    print(f\"{nilai} Adalah bilangan Genap\")\n",
    "else:\n",
    "    print(f\"{nilai} Adalah bilangan Ganjil\")"
   ]
  },
  {
   "cell_type": "code",
   "execution_count": 43,
   "id": "52684693-baae-4797-a964-9a6cec7e1bc8",
   "metadata": {},
   "outputs": [
    {
     "name": "stdin",
     "output_type": "stream",
     "text": [
      "Masukkan Nilai : -2\n"
     ]
    },
    {
     "name": "stdout",
     "output_type": "stream",
     "text": [
      "Input Salah\n"
     ]
    }
   ],
   "source": [
    "#JIKA KONDISI LEBIH DARI 2\n",
    "nilai = int(input('Masukkan Nilai :'))\n",
    "\n",
    "if nilai >= 0 and nilai <= 100:\n",
    "    if nilai <= 49:\n",
    "        print(f\"{nilai} : E\")\n",
    "    \n",
    "    elif nilai <= 59:\n",
    "        print(f\"{nilai} : D\")\n",
    "    \n",
    "    elif nilai <= 69:\n",
    "        print(f\"{nilai} : C\")\n",
    "    \n",
    "    elif nilai <= 84:\n",
    "        print(f\"{nilai} : B\")\n",
    "    \n",
    "    elif nilai <= 100:\n",
    "        print(f\"{nilai} : A\")\n",
    "else:\n",
    "    print(\"Input Salah\")"
   ]
  },
  {
   "cell_type": "code",
   "execution_count": 61,
   "id": "df7b1818-47ab-485b-9886-8e3f2a9cf996",
   "metadata": {},
   "outputs": [
    {
     "name": "stdin",
     "output_type": "stream",
     "text": [
      "Masukkan Username : admin\n",
      "Masukkan Password : admin\n"
     ]
    },
    {
     "name": "stdout",
     "output_type": "stream",
     "text": [
      "Selamat Datang admin\n"
     ]
    }
   ],
   "source": [
    "#lOGIN SEDERHANA\n",
    "username = input('Masukkan Username :')\n",
    "password = input('Masukkan Password :')\n",
    "\n",
    "if username == 'admin':\n",
    "    if password == 'admin':\n",
    "        print(f\"Selamat Datang {username}\")\n",
    "    else:\n",
    "        print(f\"Password anda salah\")\n",
    "    \n",
    "else:\n",
    "    if password == 'admin':\n",
    "        print(\"Username anda salah\")\n",
    "    else:\n",
    "        print(\"Password anda salah\")    \n"
   ]
  },
  {
   "cell_type": "code",
   "execution_count": 144,
   "id": "38648b5c-b5e7-40ce-865a-c2cc5d2393b4",
   "metadata": {},
   "outputs": [
    {
     "name": "stdin",
     "output_type": "stream",
     "text": [
      "Masukkan Nama : Rangga\n",
      "Masukkan Umur : 40\n",
      "Masukkan Tempat Tinggal : Nevada\n",
      "Masukkan Uang Tabungan : 10000000000000000\n"
     ]
    },
    {
     "name": "stdout",
     "output_type": "stream",
     "text": [
      "Adalah Seorang Anggota Mafia Dengan Pangkat DON\n"
     ]
    }
   ],
   "source": [
    "#Tugas Praktikum\n",
    "nama = input('Masukkan Nama :')\n",
    "umur = int(input('Masukkan Umur :'))\n",
    "tempat_tinggal = input('Masukkan Tempat Tinggal :')\n",
    "uang_tabungan = int(input('Masukkan Uang Tabungan :'))\n",
    "\n",
    "if umur >= 40:\n",
    "    if tempat_tinggal == 'Nevada'or tempat_tinggal == 'Newyork'or tempat_tinggal =='Havana':\n",
    "        if uang_tabungan >= 10000000:\n",
    "            print('Adalah Seorang Anggota Mafia Dengan Pangkat DON')\n",
    "\n",
    "if umur >= 25 or umur <= 40:\n",
    "    if tempat_tinggal == 'New Jersey' or tempat_tinggal == 'Manhattan' or tempat_tinggal =='Nevada':\n",
    "        if uang_tabungan >= 1000000 and uang_tabungan <= 2000000:\n",
    "            print('Adalah Seorang Anggota Mafia Dengan Pangkat Underboss')\n",
    "\n",
    "\n",
    "if umur >= 18 or umur <= 24:\n",
    "    if tempat_tinggal == 'California' or tempat_tinggal == 'Detroit' or tempat_tinggal =='Boston':\n",
    "        if uang_tabungan <= 1000000:\n",
    "            print('Adalah Seorang Anggota Mafia Dengan Pangkat Capo')\n",
    "else:\n",
    "    print('Tidak Mencurigakan')"
   ]
  },
  {
   "cell_type": "code",
   "execution_count": 147,
   "id": "2ea17489-4a51-4ce1-84f4-ee2c402b21b1",
   "metadata": {},
   "outputs": [
    {
     "name": "stdin",
     "output_type": "stream",
     "text": [
      "Masukkan Nama : Rangga\n",
      "Masukkan Umur : 19\n",
      "Masukkan Tempat Tinggal : Cibadak\n",
      "Masukkan Uang Tabungan : 100000\n"
     ]
    },
    {
     "name": "stdout",
     "output_type": "stream",
     "text": [
      "RanggaTidak Mencurigakan\n"
     ]
    }
   ],
   "source": [
    "#TUGAS PRAKTIKUM\n",
    "nama = input('Masukkan Nama :')\n",
    "umur = int(input('Masukkan Umur :'))\n",
    "tempat_tinggal = input('Masukkan Tempat Tinggal :')\n",
    "uang_tabungan = int(input('Masukkan Uang Tabungan :'))\n",
    "\n",
    "pangkat = ''\n",
    "\n",
    "if umur >= 40:\n",
    "    if tempat_tinggal == 'Nevada'or tempat_tinggal == 'Newyork'or tempat_tinggal =='Havana':\n",
    "        if uang_tabungan >= 10000000:\n",
    "            pangkat = 'Don'\n",
    "\n",
    "if umur >= 25 or umur <= 40:\n",
    "    if tempat_tinggal == 'New Jersey' or tempat_tinggal == 'Manhattan' or tempat_tinggal =='Nevada':\n",
    "        if uang_tabungan >= 1000000 and uang_tabungan <= 2000000:\n",
    "            pangkat = 'Underboss'\n",
    "\n",
    "\n",
    "if umur >= 18 or umur <= 24:\n",
    "    if tempat_tinggal == 'California' or tempat_tinggal == 'Detroit' or tempat_tinggal =='Boston':\n",
    "        if uang_tabungan <= 1000000:\n",
    "            pangkat = 'Capo'\n",
    "\n",
    "if pangkat != '':\n",
    "    print(f\"{nama} Kemungkinan mafia dengan pangkat {pangkat}\")\n",
    "else:\n",
    "    print(f\"{nama} Tidak Mencurigakan\")"
   ]
  },
  {
   "cell_type": "code",
   "execution_count": null,
   "id": "a1b902b8-8cd6-4a3b-ba94-4b95962e1905",
   "metadata": {},
   "outputs": [],
   "source": []
  }
 ],
 "metadata": {
  "kernelspec": {
   "display_name": "Python 3 (ipykernel)",
   "language": "python",
   "name": "python3"
  },
  "language_info": {
   "codemirror_mode": {
    "name": "ipython",
    "version": 3
   },
   "file_extension": ".py",
   "mimetype": "text/x-python",
   "name": "python",
   "nbconvert_exporter": "python",
   "pygments_lexer": "ipython3",
   "version": "3.11.7"
  }
 },
 "nbformat": 4,
 "nbformat_minor": 5
}
